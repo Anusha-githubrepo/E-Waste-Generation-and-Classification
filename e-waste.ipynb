{
 "cells": [
  {
   "cell_type": "code",
   "execution_count": 8,
   "id": "2b88d1eb",
   "metadata": {},
   "outputs": [],
   "source": [
    "import torch\n",
    "import torch.nn as nn\n",
    "import torch.optim as optim\n",
    "from torch.utils.data import DataLoader\n",
    "from torchvision import datasets, transforms, models\n",
    "from torchvision.models import mobilenet_v3_small\n",
    "from torch.optim.lr_scheduler import CosineAnnealingLR\n",
    "from PIL import Image\n",
    "import os\n"
   ]
  },
  {
   "cell_type": "code",
   "execution_count": 9,
   "id": "0f848e24",
   "metadata": {},
   "outputs": [],
   "source": [
    "device = torch.device(\"cuda\" if torch.cuda.is_available() else \"cpu\")\n",
    "\n",
    "data_dir = \"./modified-dataset\"\n",
    "num_classes = 10\n",
    "batch_size = 64\n",
    "num_epochs = 30\n"
   ]
  },
  {
   "cell_type": "code",
   "execution_count": 10,
   "id": "58e66593",
   "metadata": {},
   "outputs": [
    {
     "name": "stdout",
     "output_type": "stream",
     "text": [
      "✅ Found: ./modified-dataset\\train\n",
      "✅ Found: ./modified-dataset\\val\n",
      "✅ Found: ./modified-dataset\\test\n"
     ]
    }
   ],
   "source": [
    "train_transform = transforms.Compose([\n",
    "    transforms.Resize((192, 192)),\n",
    "    transforms.RandomHorizontalFlip(0.5),\n",
    "    transforms.RandomRotation(10),\n",
    "    transforms.ColorJitter(0.2, 0.2, 0.2, 0.05),\n",
    "    transforms.ToTensor(),\n",
    "    transforms.RandomErasing(p=0.25),\n",
    "    transforms.Normalize([0.485, 0.456, 0.406], [0.229, 0.224, 0.225])\n",
    "])\n",
    "\n",
    "val_test_transform = transforms.Compose([\n",
    "    transforms.Resize((192, 192)),\n",
    "    transforms.ToTensor(),\n",
    "    transforms.Normalize([0.485, 0.456, 0.406], [0.229, 0.224, 0.225])\n",
    "])\n",
    "\n",
    "for split in [\"train\", \"val\", \"test\"]:\n",
    "    path = os.path.join(data_dir, split)\n",
    "    if not os.path.exists(path):\n",
    "        raise FileNotFoundError(f\"Missing folder: {path}\")\n",
    "    else:\n",
    "        print(f\"✅ Found: {path}\")\n",
    "\n",
    "train_dataset = datasets.ImageFolder(os.path.join(data_dir, \"train\"), transform=train_transform)\n",
    "val_dataset = datasets.ImageFolder(os.path.join(data_dir, \"val\"), transform=val_test_transform)\n",
    "test_dataset = datasets.ImageFolder(os.path.join(data_dir, \"test\"), transform=val_test_transform)\n",
    "\n",
    "train_loader = DataLoader(train_dataset, batch_size=batch_size, shuffle=True, num_workers=4)\n",
    "val_loader = DataLoader(val_dataset, batch_size=batch_size, shuffle=False, num_workers=4)\n",
    "test_loader = DataLoader(test_dataset, batch_size=batch_size, shuffle=False, num_workers=4)\n"
   ]
  },
  {
   "cell_type": "code",
   "execution_count": 11,
   "id": "1bd05c73",
   "metadata": {},
   "outputs": [],
   "source": [
    "model = mobilenet_v3_small(weights=\"IMAGENET1K_V1\")\n",
    "model.classifier[3] = nn.Linear(model.classifier[3].in_features, num_classes)\n",
    "model = model.to(device)\n"
   ]
  },
  {
   "cell_type": "code",
   "execution_count": 12,
   "id": "0a10b3a3",
   "metadata": {},
   "outputs": [],
   "source": [
    "criterion = nn.CrossEntropyLoss(label_smoothing=0.1)\n",
    "optimizer = optim.AdamW(model.parameters(), lr=1e-4, weight_decay=1e-4)\n",
    "scheduler = CosineAnnealingLR(optimizer, T_max=num_epochs)\n"
   ]
  },
  {
   "cell_type": "code",
   "execution_count": 13,
   "id": "9edd96ce",
   "metadata": {},
   "outputs": [
    {
     "name": "stdout",
     "output_type": "stream",
     "text": [
      "Epoch 1/30 Train Loss: 1.9584 Acc: 0.4129 | Val Loss: 1.4760 Acc: 0.7067\n",
      "Epoch 2/30 Train Loss: 1.2562 Acc: 0.7521 | Val Loss: 0.9898 Acc: 0.8400\n",
      "Epoch 3/30 Train Loss: 0.9214 Acc: 0.8550 | Val Loss: 0.8324 Acc: 0.9033\n",
      "Epoch 4/30 Train Loss: 0.8252 Acc: 0.8967 | Val Loss: 0.7821 Acc: 0.9100\n",
      "Epoch 5/30 Train Loss: 0.7748 Acc: 0.9133 | Val Loss: 0.7333 Acc: 0.9333\n",
      "Epoch 6/30 Train Loss: 0.7381 Acc: 0.9271 | Val Loss: 0.7119 Acc: 0.9500\n",
      "Epoch 7/30 Train Loss: 0.7073 Acc: 0.9442 | Val Loss: 0.6948 Acc: 0.9467\n",
      "Epoch 8/30 Train Loss: 0.6952 Acc: 0.9458 | Val Loss: 0.6876 Acc: 0.9500\n",
      "Epoch 9/30 Train Loss: 0.6745 Acc: 0.9537 | Val Loss: 0.6811 Acc: 0.9667\n",
      "Epoch 10/30 Train Loss: 0.6599 Acc: 0.9613 | Val Loss: 0.6738 Acc: 0.9633\n",
      "Epoch 11/30 Train Loss: 0.6512 Acc: 0.9637 | Val Loss: 0.6754 Acc: 0.9600\n",
      "Epoch 12/30 Train Loss: 0.6334 Acc: 0.9708 | Val Loss: 0.6690 Acc: 0.9700\n",
      "Epoch 13/30 Train Loss: 0.6273 Acc: 0.9721 | Val Loss: 0.6655 Acc: 0.9700\n",
      "Epoch 14/30 Train Loss: 0.6204 Acc: 0.9771 | Val Loss: 0.6647 Acc: 0.9700\n",
      "Epoch 15/30 Train Loss: 0.6178 Acc: 0.9750 | Val Loss: 0.6553 Acc: 0.9733\n",
      "Epoch 16/30 Train Loss: 0.6175 Acc: 0.9812 | Val Loss: 0.6545 Acc: 0.9733\n",
      "Epoch 17/30 Train Loss: 0.6098 Acc: 0.9817 | Val Loss: 0.6523 Acc: 0.9733\n",
      "Epoch 18/30 Train Loss: 0.6034 Acc: 0.9821 | Val Loss: 0.6451 Acc: 0.9733\n",
      "Epoch 19/30 Train Loss: 0.6023 Acc: 0.9817 | Val Loss: 0.6451 Acc: 0.9767\n",
      "Epoch 20/30 Train Loss: 0.6029 Acc: 0.9808 | Val Loss: 0.6460 Acc: 0.9767\n",
      "Epoch 21/30 Train Loss: 0.5991 Acc: 0.9825 | Val Loss: 0.6436 Acc: 0.9700\n",
      "Epoch 22/30 Train Loss: 0.5958 Acc: 0.9846 | Val Loss: 0.6438 Acc: 0.9700\n",
      "Epoch 23/30 Train Loss: 0.5985 Acc: 0.9842 | Val Loss: 0.6439 Acc: 0.9700\n",
      "Epoch 24/30 Train Loss: 0.5908 Acc: 0.9858 | Val Loss: 0.6413 Acc: 0.9700\n",
      "Epoch 25/30 Train Loss: 0.5893 Acc: 0.9892 | Val Loss: 0.6417 Acc: 0.9700\n",
      "Epoch 26/30 Train Loss: 0.5889 Acc: 0.9862 | Val Loss: 0.6413 Acc: 0.9700\n",
      "Epoch 27/30 Train Loss: 0.5951 Acc: 0.9833 | Val Loss: 0.6400 Acc: 0.9700\n",
      "Epoch 28/30 Train Loss: 0.5894 Acc: 0.9867 | Val Loss: 0.6397 Acc: 0.9733\n",
      "Epoch 29/30 Train Loss: 0.5870 Acc: 0.9892 | Val Loss: 0.6400 Acc: 0.9733\n",
      "Epoch 30/30 Train Loss: 0.5948 Acc: 0.9858 | Val Loss: 0.6402 Acc: 0.9700\n"
     ]
    }
   ],
   "source": [
    "best_val_acc = 0\n",
    "\n",
    "for epoch in range(num_epochs):\n",
    "    model.train()\n",
    "    train_loss, train_correct = 0, 0\n",
    "\n",
    "    for images, labels in train_loader:\n",
    "        images, labels = images.to(device), labels.to(device)\n",
    "        optimizer.zero_grad()\n",
    "        outputs = model(images)\n",
    "        loss = criterion(outputs, labels)\n",
    "        loss.backward()\n",
    "        optimizer.step()\n",
    "\n",
    "        train_loss += loss.item() * images.size(0)\n",
    "        train_correct += (outputs.argmax(1) == labels).sum().item()\n",
    "\n",
    "    train_loss /= len(train_dataset)\n",
    "    train_acc = train_correct / len(train_dataset)\n",
    "\n",
    "    model.eval()\n",
    "    val_loss, val_correct = 0, 0\n",
    "    with torch.no_grad():\n",
    "        for images, labels in val_loader:\n",
    "            images, labels = images.to(device), labels.to(device)\n",
    "            outputs = model(images)\n",
    "            loss = criterion(outputs, labels)\n",
    "            val_loss += loss.item() * images.size(0)\n",
    "            val_correct += (outputs.argmax(1) == labels).sum().item()\n",
    "\n",
    "    val_loss /= len(val_dataset)\n",
    "    val_acc = val_correct / len(val_dataset)\n",
    "\n",
    "    print(f\"Epoch {epoch+1}/{num_epochs} \"\n",
    "          f\"Train Loss: {train_loss:.4f} Acc: {train_acc:.4f} | \"\n",
    "          f\"Val Loss: {val_loss:.4f} Acc: {val_acc:.4f}\")\n",
    "\n",
    "    scheduler.step()\n",
    "\n",
    "    if val_acc > best_val_acc:\n",
    "        best_val_acc = val_acc\n",
    "        torch.save(model.state_dict(), \"best_mobilenetv3.pth\")\n"
   ]
  },
  {
   "cell_type": "code",
   "execution_count": 14,
   "id": "0bd3cdda",
   "metadata": {},
   "outputs": [
    {
     "name": "stdout",
     "output_type": "stream",
     "text": [
      "Test Loss: 0.6797 | Test Acc: 0.9567\n"
     ]
    }
   ],
   "source": [
    "model.load_state_dict(torch.load(\"best_mobilenetv3.pth\"))\n",
    "model.eval()\n",
    "\n",
    "test_loss, test_correct = 0, 0\n",
    "with torch.no_grad():\n",
    "    for images, labels in test_loader:\n",
    "        images, labels = images.to(device), labels.to(device)\n",
    "        outputs = model(images)\n",
    "        loss = criterion(outputs, labels)\n",
    "\n",
    "        test_loss += loss.item() * images.size(0)\n",
    "        test_correct += (outputs.argmax(1) == labels).sum().item()\n",
    "\n",
    "test_loss /= len(test_dataset)\n",
    "test_acc = test_correct / len(test_dataset)\n",
    "\n",
    "print(f\"Test Loss: {test_loss:.4f} | Test Acc: {test_acc:.4f}\")"
   ]
  },
  {
   "cell_type": "code",
   "execution_count": 1,
   "id": "445e74fd",
   "metadata": {},
   "outputs": [],
   "source": [
    "def predict_image(image_path, model, class_names):\n",
    "    model.eval()\n",
    "    img = Image.open(image_path).convert(\"RGB\")\n",
    "    transform = transforms.Compose([\n",
    "        transforms.Resize((192, 192)),\n",
    "        transforms.ToTensor(),\n",
    "        transforms.Normalize([0.485, 0.456, 0.406], [0.229, 0.224, 0.225])\n",
    "    ])\n",
    "    img_tensor = transform(img).unsqueeze(0).to(device)\n",
    "\n",
    "    with torch.no_grad():\n",
    "        outputs = model(img_tensor)\n",
    "        probs = torch.softmax(outputs, dim=1)\n",
    "        conf, pred = torch.max(probs, 1)\n",
    "\n",
    "    return class_names[pred.item()], conf.item()"
   ]
  },
  {
   "cell_type": "code",
   "execution_count": 16,
   "id": "705ad4f5",
   "metadata": {},
   "outputs": [
    {
     "name": "stdout",
     "output_type": "stream",
     "text": [
      "Predicted: PCB | Confidence: 0.9255\n"
     ]
    }
   ],
   "source": [
    "class_names = train_dataset.classes\n",
    "image_path =\"./modified-dataset/test/PCB/pcb_177.jpg\"\n",
    "pred_class, confidence = predict_image(image_path, model, class_names)\n",
    "print(f\"Predicted: {pred_class} | Confidence: {confidence:.4f}\")"
   ]
  }
 ],
 "metadata": {
  "kernelspec": {
   "display_name": "Python 3",
   "language": "python",
   "name": "python3"
  },
  "language_info": {
   "codemirror_mode": {
    "name": "ipython",
    "version": 3
   },
   "file_extension": ".py",
   "mimetype": "text/x-python",
   "name": "python",
   "nbconvert_exporter": "python",
   "pygments_lexer": "ipython3",
   "version": "3.10.0"
  }
 },
 "nbformat": 4,
 "nbformat_minor": 5
}
