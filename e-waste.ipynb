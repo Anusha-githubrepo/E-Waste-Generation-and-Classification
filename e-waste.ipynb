{
 "cells": [
  {
   "cell_type": "code",
   "execution_count": 1,
   "id": "2b88d1eb",
   "metadata": {},
   "outputs": [],
   "source": [
    "import torch\n",
    "import torch.nn as nn\n",
    "import torch.optim as optim\n",
    "from torch.utils.data import DataLoader\n",
    "from torchvision import datasets, transforms, models\n",
    "from torchvision.models import mobilenet_v3_small\n",
    "from torch.optim.lr_scheduler import CosineAnnealingLR\n",
    "from PIL import Image\n",
    "import os\n"
   ]
  },
  {
   "cell_type": "code",
   "execution_count": 2,
   "id": "0f848e24",
   "metadata": {},
   "outputs": [],
   "source": [
    "device = torch.device(\"cuda\" if torch.cuda.is_available() else \"cpu\")\n",
    "\n",
    "data_dir = \"./modified-dataset\"\n",
    "num_classes = 10\n",
    "batch_size = 64\n",
    "num_epochs = 30\n"
   ]
  },
  {
   "cell_type": "code",
   "execution_count": 3,
   "id": "58e66593",
   "metadata": {},
   "outputs": [
    {
     "name": "stdout",
     "output_type": "stream",
     "text": [
      "✅ Found: ./modified-dataset\\train\n",
      "✅ Found: ./modified-dataset\\val\n",
      "✅ Found: ./modified-dataset\\test\n"
     ]
    }
   ],
   "source": [
    "train_transform = transforms.Compose([\n",
    "    transforms.Resize((192, 192)),\n",
    "    transforms.RandomHorizontalFlip(0.5),\n",
    "    transforms.RandomRotation(10),\n",
    "    transforms.ColorJitter(0.2, 0.2, 0.2, 0.05),\n",
    "    transforms.ToTensor(),\n",
    "    transforms.RandomErasing(p=0.25),\n",
    "    transforms.Normalize([0.485, 0.456, 0.406], [0.229, 0.224, 0.225])\n",
    "])\n",
    "\n",
    "val_test_transform = transforms.Compose([\n",
    "    transforms.Resize((192, 192)),\n",
    "    transforms.ToTensor(),\n",
    "    transforms.Normalize([0.485, 0.456, 0.406], [0.229, 0.224, 0.225])\n",
    "])\n",
    "\n",
    "for split in [\"train\", \"val\", \"test\"]:\n",
    "    path = os.path.join(data_dir, split)\n",
    "    if not os.path.exists(path):\n",
    "        raise FileNotFoundError(f\"Missing folder: {path}\")\n",
    "    else:\n",
    "        print(f\"✅ Found: {path}\")\n",
    "\n",
    "train_dataset = datasets.ImageFolder(os.path.join(data_dir, \"train\"), transform=train_transform)\n",
    "val_dataset = datasets.ImageFolder(os.path.join(data_dir, \"val\"), transform=val_test_transform)\n",
    "test_dataset = datasets.ImageFolder(os.path.join(data_dir, \"test\"), transform=val_test_transform)\n",
    "\n",
    "train_loader = DataLoader(train_dataset, batch_size=batch_size, shuffle=True, num_workers=4)\n",
    "val_loader = DataLoader(val_dataset, batch_size=batch_size, shuffle=False, num_workers=4)\n",
    "test_loader = DataLoader(test_dataset, batch_size=batch_size, shuffle=False, num_workers=4)\n"
   ]
  },
  {
   "cell_type": "code",
   "execution_count": 4,
   "id": "1bd05c73",
   "metadata": {},
   "outputs": [
    {
     "name": "stderr",
     "output_type": "stream",
     "text": [
      "Downloading: \"https://download.pytorch.org/models/mobilenet_v3_small-047dcff4.pth\" to C:\\Users\\anush/.cache\\torch\\hub\\checkpoints\\mobilenet_v3_small-047dcff4.pth\n",
      "100%|██████████| 9.83M/9.83M [00:04<00:00, 2.50MB/s]\n"
     ]
    }
   ],
   "source": [
    "model = mobilenet_v3_small(weights=\"IMAGENET1K_V1\")\n",
    "model.classifier[3] = nn.Linear(model.classifier[3].in_features, num_classes)\n",
    "model = model.to(device)\n"
   ]
  },
  {
   "cell_type": "code",
   "execution_count": 5,
   "id": "0a10b3a3",
   "metadata": {},
   "outputs": [],
   "source": [
    "criterion = nn.CrossEntropyLoss(label_smoothing=0.1)\n",
    "optimizer = optim.AdamW(model.parameters(), lr=1e-4, weight_decay=1e-4)\n",
    "scheduler = CosineAnnealingLR(optimizer, T_max=num_epochs)\n"
   ]
  },
  {
   "cell_type": "code",
   "execution_count": 6,
   "id": "9edd96ce",
   "metadata": {},
   "outputs": [
    {
     "name": "stdout",
     "output_type": "stream",
     "text": [
      "Epoch 1/30 Train Loss: 1.9601 Acc: 0.4163 | Val Loss: 1.5231 Acc: 0.6267\n",
      "Epoch 2/30 Train Loss: 1.2655 Acc: 0.7562 | Val Loss: 1.0965 Acc: 0.7733\n",
      "Epoch 3/30 Train Loss: 0.9230 Acc: 0.8583 | Val Loss: 0.8854 Acc: 0.8767\n",
      "Epoch 4/30 Train Loss: 0.8262 Acc: 0.8862 | Val Loss: 0.8027 Acc: 0.9033\n",
      "Epoch 5/30 Train Loss: 0.7693 Acc: 0.9154 | Val Loss: 0.7603 Acc: 0.9367\n",
      "Epoch 6/30 Train Loss: 0.7397 Acc: 0.9254 | Val Loss: 0.7159 Acc: 0.9567\n",
      "Epoch 7/30 Train Loss: 0.7032 Acc: 0.9421 | Val Loss: 0.7029 Acc: 0.9633\n",
      "Epoch 8/30 Train Loss: 0.6922 Acc: 0.9458 | Val Loss: 0.6982 Acc: 0.9567\n",
      "Epoch 9/30 Train Loss: 0.6692 Acc: 0.9575 | Val Loss: 0.6874 Acc: 0.9533\n",
      "Epoch 10/30 Train Loss: 0.6603 Acc: 0.9596 | Val Loss: 0.6831 Acc: 0.9567\n",
      "Epoch 11/30 Train Loss: 0.6504 Acc: 0.9608 | Val Loss: 0.6798 Acc: 0.9600\n",
      "Epoch 12/30 Train Loss: 0.6326 Acc: 0.9746 | Val Loss: 0.6733 Acc: 0.9567\n",
      "Epoch 13/30 Train Loss: 0.6264 Acc: 0.9762 | Val Loss: 0.6715 Acc: 0.9500\n",
      "Epoch 14/30 Train Loss: 0.6184 Acc: 0.9825 | Val Loss: 0.6646 Acc: 0.9633\n",
      "Epoch 15/30 Train Loss: 0.6153 Acc: 0.9758 | Val Loss: 0.6580 Acc: 0.9667\n",
      "Epoch 16/30 Train Loss: 0.6168 Acc: 0.9767 | Val Loss: 0.6580 Acc: 0.9633\n",
      "Epoch 17/30 Train Loss: 0.6067 Acc: 0.9792 | Val Loss: 0.6603 Acc: 0.9567\n",
      "Epoch 18/30 Train Loss: 0.5972 Acc: 0.9883 | Val Loss: 0.6577 Acc: 0.9600\n",
      "Epoch 19/30 Train Loss: 0.6059 Acc: 0.9821 | Val Loss: 0.6546 Acc: 0.9567\n",
      "Epoch 20/30 Train Loss: 0.5952 Acc: 0.9850 | Val Loss: 0.6535 Acc: 0.9600\n",
      "Epoch 21/30 Train Loss: 0.6013 Acc: 0.9838 | Val Loss: 0.6538 Acc: 0.9567\n",
      "Epoch 22/30 Train Loss: 0.5911 Acc: 0.9858 | Val Loss: 0.6528 Acc: 0.9633\n",
      "Epoch 23/30 Train Loss: 0.5973 Acc: 0.9796 | Val Loss: 0.6527 Acc: 0.9600\n",
      "Epoch 24/30 Train Loss: 0.5940 Acc: 0.9846 | Val Loss: 0.6505 Acc: 0.9633\n",
      "Epoch 25/30 Train Loss: 0.5880 Acc: 0.9871 | Val Loss: 0.6499 Acc: 0.9633\n",
      "Epoch 26/30 Train Loss: 0.5914 Acc: 0.9875 | Val Loss: 0.6488 Acc: 0.9633\n",
      "Epoch 27/30 Train Loss: 0.5872 Acc: 0.9892 | Val Loss: 0.6485 Acc: 0.9633\n",
      "Epoch 28/30 Train Loss: 0.5855 Acc: 0.9896 | Val Loss: 0.6484 Acc: 0.9633\n",
      "Epoch 29/30 Train Loss: 0.5895 Acc: 0.9854 | Val Loss: 0.6483 Acc: 0.9633\n",
      "Epoch 30/30 Train Loss: 0.5930 Acc: 0.9846 | Val Loss: 0.6482 Acc: 0.9633\n"
     ]
    }
   ],
   "source": [
    "best_val_acc = 0\n",
    "\n",
    "for epoch in range(num_epochs):\n",
    "    model.train()\n",
    "    train_loss, train_correct = 0, 0\n",
    "\n",
    "    for images, labels in train_loader:\n",
    "        images, labels = images.to(device), labels.to(device)\n",
    "        optimizer.zero_grad()\n",
    "        outputs = model(images)\n",
    "        loss = criterion(outputs, labels)\n",
    "        loss.backward()\n",
    "        optimizer.step()\n",
    "\n",
    "        train_loss += loss.item() * images.size(0)\n",
    "        train_correct += (outputs.argmax(1) == labels).sum().item()\n",
    "\n",
    "    train_loss /= len(train_dataset)\n",
    "    train_acc = train_correct / len(train_dataset)\n",
    "\n",
    "    model.eval()\n",
    "    val_loss, val_correct = 0, 0\n",
    "    with torch.no_grad():\n",
    "        for images, labels in val_loader:\n",
    "            images, labels = images.to(device), labels.to(device)\n",
    "            outputs = model(images)\n",
    "            loss = criterion(outputs, labels)\n",
    "            val_loss += loss.item() * images.size(0)\n",
    "            val_correct += (outputs.argmax(1) == labels).sum().item()\n",
    "\n",
    "    val_loss /= len(val_dataset)\n",
    "    val_acc = val_correct / len(val_dataset)\n",
    "\n",
    "    print(f\"Epoch {epoch+1}/{num_epochs} \"\n",
    "          f\"Train Loss: {train_loss:.4f} Acc: {train_acc:.4f} | \"\n",
    "          f\"Val Loss: {val_loss:.4f} Acc: {val_acc:.4f}\")\n",
    "\n",
    "    scheduler.step()\n",
    "\n",
    "    if val_acc > best_val_acc:\n",
    "        best_val_acc = val_acc\n",
    "        torch.save(model.state_dict(), \"best_mobilenetv3.pth\")\n"
   ]
  }
 ],
 "metadata": {
  "kernelspec": {
   "display_name": "Python 3",
   "language": "python",
   "name": "python3"
  },
  "language_info": {
   "codemirror_mode": {
    "name": "ipython",
    "version": 3
   },
   "file_extension": ".py",
   "mimetype": "text/x-python",
   "name": "python",
   "nbconvert_exporter": "python",
   "pygments_lexer": "ipython3",
   "version": "3.10.0"
  }
 },
 "nbformat": 4,
 "nbformat_minor": 5
}
